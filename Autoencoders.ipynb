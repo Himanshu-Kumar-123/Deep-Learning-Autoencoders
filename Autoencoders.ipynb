{
 "cells": [
  {
   "cell_type": "markdown",
   "id": "7844b63a-abf6-4475-8092-43157df7bf77",
   "metadata": {},
   "source": [
    "- The MNIST dataset is one of the most famous datasets in machine learning and computer vision.\n",
    "\n",
    "- Images: 70,000 grayscale images of handwritten digits (0 through 9)\n",
    "  - 60,000 for training\n",
    "  - 10,000 for testing\n",
    "\n",
    "- Image size: 28 x 28 pixels (784 total pixels)\n",
    "\n",
    "- Pixel values: 0 (black) to 255 (white)."
   ]
  },
  {
   "cell_type": "code",
   "execution_count": 1,
   "id": "fc6f3bfb-385e-4c1f-b217-7a12cece64aa",
   "metadata": {},
   "outputs": [],
   "source": [
    "from tensorflow.keras.datasets import mnist"
   ]
  },
  {
   "cell_type": "code",
   "execution_count": 2,
   "id": "2a8ce64f-d734-4526-8d99-c1cc4038bf11",
   "metadata": {},
   "outputs": [
    {
     "name": "stdout",
     "output_type": "stream",
     "text": [
      "Downloading data from https://storage.googleapis.com/tensorflow/tf-keras-datasets/mnist.npz\n",
      "\u001b[1m11490434/11490434\u001b[0m \u001b[32m━━━━━━━━━━━━━━━━━━━━\u001b[0m\u001b[37m\u001b[0m \u001b[1m3s\u001b[0m 0us/step\n"
     ]
    }
   ],
   "source": [
    "# Load MNIST data\n",
    "(x_train, y_train), (x_test, y_test) = mnist.load_data()"
   ]
  },
  {
   "cell_type": "code",
   "execution_count": null,
   "id": "15a28c19-26b0-4684-9f2d-7e6e5f775ab3",
   "metadata": {},
   "outputs": [],
   "source": []
  },
  {
   "cell_type": "code",
   "execution_count": null,
   "id": "5dfd0a24-98cf-4d97-aae1-474d281ea935",
   "metadata": {},
   "outputs": [],
   "source": []
  }
 ],
 "metadata": {
  "kernelspec": {
   "display_name": "Python 3 (ipykernel)",
   "language": "python",
   "name": "python3"
  },
  "language_info": {
   "codemirror_mode": {
    "name": "ipython",
    "version": 3
   },
   "file_extension": ".py",
   "mimetype": "text/x-python",
   "name": "python",
   "nbconvert_exporter": "python",
   "pygments_lexer": "ipython3",
   "version": "3.10.2"
  }
 },
 "nbformat": 4,
 "nbformat_minor": 5
}
